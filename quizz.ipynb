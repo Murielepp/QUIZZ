{
 "cells": [
  {
   "cell_type": "markdown",
   "metadata": {},
   "source": [
    "# QUIZZ\n",
    "\n",
    "### **OBJECTIF** : création d'un quiz de 3 questions\n",
    "\n",
    "### **CONSIGNES** : 3 essais possibles pour réussir la totalité du quiz"
   ]
  },
  {
   "cell_type": "code",
   "execution_count": null,
   "metadata": {},
   "outputs": [],
   "source": [
    "# Improve your code : if the user makes 3 wrong answers, the program should stop and print (\"Too bad, you lost the game !\"\n",
    "\n",
    "print (\"Here you have your quiz\")\n",
    "\n",
    "nb_answers = 3                                                              #initialisation du cpteur : 3 essais\n",
    "print (f\"vous avez {nb_answers} pour répondre aux 3 questions suivantes\")\n",
    "\n",
    "resp1 = int(input(\"En quelle année auront lieux les prochains JO ?\"))\n",
    "\n",
    "# QUESTION 1\n",
    "print (\"QUESTION 1\")\n",
    "\n",
    "while resp1 !=2024 :\n",
    "    nb_answers -= 1\n",
    "    print(f\"Your answer : {resp1} is not the good answer\")\n",
    "    if nb_answers == 0 : \n",
    "        print (\"Oh no, you lost the quiz...try again!\")\n",
    "        break\n",
    "    print(f\"Il vous reste {nb_answers} chances\")\n",
    "    resp1 = int(input(\"En quelle année auront lieux les prochains JO ?\"))\n",
    "\n",
    "if nb_answers > 0 :                                                 # si cpteur non nul -> passer à la question suivante\n",
    "    print ('Félicitations Bonne réponse!!')\n",
    "\n",
    "    # QUESTION 2  \n",
    "    print (\"QUESTION 2\")\n",
    "    resp2 = input(\"Dans quelle ville auront lieux les prochains JO?\")\n",
    "\n",
    "    while resp2.lower() != \"paris\" :\n",
    "        nb_answers-=1\n",
    "        if nb_answers == 0 : \n",
    "            print (\"Oh no, you lost the quiz...try again!\")\n",
    "            break\n",
    "        print(f\"Il vous reste {nb_answers} chances\")\n",
    "        resp2 = input(\"Dans quelle ville auront lieux les prochains JO?\")\n",
    "\n",
    "    if nb_answers > 0 :                                         # si cpteur non nul -> passer à la question suivante\n",
    "        print ('Félicitations Bonne réponse!!')\n",
    "\n",
    "        # QUESTION 3\n",
    "        print (\"QUESTION 3\")\n",
    "        resp3 = input(\"Les prochains JO seront JO ETE ou HIVER ?\")\n",
    "\n",
    "        while resp3.lower() != \"ete\" :\n",
    "            nb_answers-=1\n",
    "            if nb_answers == 0 : \n",
    "                print (\"Oh no, you lost the quiz...try again!\")\n",
    "                break\n",
    "            print(f\"Il vous reste {nb_answers} chances\")\n",
    "            resp3 = input(\"Les prochains JO seront JO ETE ou HIVER ?\")"
   ]
  }
 ],
 "metadata": {
  "language_info": {
   "name": "python"
  },
  "orig_nbformat": 4
 },
 "nbformat": 4,
 "nbformat_minor": 2
}
